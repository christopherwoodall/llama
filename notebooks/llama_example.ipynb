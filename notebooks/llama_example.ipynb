{
  "nbformat": 4,
  "nbformat_minor": 0,
  "metadata": {
    "colab": {
      "provenance": []
    },
    "kernelspec": {
      "name": "python3",
      "display_name": "Python 3"
    },
    "language_info": {
      "name": "python"
    },
    "gpuClass": "standard"
  },
  "cells": [
    {
      "cell_type": "code",
      "execution_count": null,
      "metadata": {
        "colab": {
          "base_uri": "https://localhost:8080/"
        },
        "id": "z4eGx5A5Qs5A",
        "outputId": "20bc3fee-20ab-45db-80a4-16f7e30e7727"
      },
      "outputs": [
        {
          "output_type": "stream",
          "name": "stdout",
          "text": [
            "Looking in indexes: https://pypi.org/simple, https://us-python.pkg.dev/colab-wheels/public/simple/\n",
            "Requirement already satisfied: torch in /usr/local/lib/python3.8/dist-packages (1.13.1+cu116)\n",
            "Requirement already satisfied: typing-extensions in /usr/local/lib/python3.8/dist-packages (from torch) (4.5.0)\n"
          ]
        }
      ],
      "source": [
        "%%bash\n",
        "\n",
        "PRESIGNED_URL=\"<INSERT URL PROVIDED>\"\n",
        "TARGET_FOLDER=\"<INSERT TARGET FOLDER>\"\n",
        "\n",
        "\n",
        "if [ ! -d llama ]; then\n",
        "  mkdir \"${TARGET_FOLDER}\"\n",
        "  git clone https://github.com/facebookresearch/llama\n",
        "  pip install torch\n",
        "  pushd llama\n",
        "    pip install -r requirements.txt\n",
        "    pip install -e .\n",
        "    chmod +x download.sh\n",
        "    ./download.sh\n",
        "  popd\n",
        "fi"
      ]
    },
    {
      "cell_type": "code",
      "source": [],
      "metadata": {
        "id": "NSzB-2oYSG9H"
      },
      "execution_count": null,
      "outputs": []
    }
  ]
}